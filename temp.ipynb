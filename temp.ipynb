{
 "cells": [
  {
   "cell_type": "code",
   "execution_count": null,
   "metadata": {},
   "outputs": [],
   "source": [
    "import requests\n",
    "import numpy as np\n",
    "from sklearn.model_selection import train_test_split\n",
    "from sklearn.ensemble import RandomForestClassifier\n",
    "from sklearn.metrics import accuracy_score"
   ]
  },
  {
   "cell_type": "code",
   "execution_count": null,
   "metadata": {},
   "outputs": [],
   "source": [
    "# Function to retrieve data from ThingSpeak\n",
    "def get_data_from_thingspeak(channel_id, read_key, num_entries):\n",
    "    url = f'https://api.thingspeak.com/channels/{channel_id}/feeds.json?api_key={read_key}&results={num_entries}'\n",
    "    response = requests.get(url)\n",
    "    data = response.json()\n",
    "    entries = data['feeds'] \n",
    "    field1_values = [float(entry[f' https://api.thingspeak.com/channels/{channel_id}/fields/1/last.txt']) for entry in entries]  # Assuming field1 contains the target variable\n",
    "    field2_values = [float(entry[f' https://api.thingspeak.com/channels/{channel_id}/fields/2/last.txt']) for entry in entries]  # Assuming field2 contains one of the features\n",
    "    field3_values = [float(entry[f' https://api.thingspeak.com/channels/{channel_id}/fields/3/last.txt']) for entry in entries]\n",
    "    field4_values = [float(entry[f' https://api.thingspeak.com/channels/{channel_id}/fields/4/last.txt']) for entry in entries]\n",
    "    # Add more fields as needed\n",
    "    return field1_values, field2_values, field3_values, field4_values"
   ]
  },
  {
   "cell_type": "code",
   "execution_count": null,
   "metadata": {},
   "outputs": [],
   "source": [
    "channel_id = '562742'\n",
    "read_key = 'B7KXZ1OS1873O8ET'\n",
    "num_entries = 4  # Number of entries to retrieve\n",
    "target_values = []\n",
    "#field1-ph  field2-temp field3-hum field4-rain\n",
    "target_values.append(get_data_from_thingspeak(channel_id, read_key, num_entries))"
   ]
  },
  {
   "cell_type": "code",
   "execution_count": null,
   "metadata": {},
   "outputs": [],
   "source": [
    "print(target_values)"
   ]
  },
  {
   "cell_type": "code",
   "execution_count": null,
   "metadata": {},
   "outputs": [],
   "source": [
    "import pandas as pd\n",
    "\n",
    "data = {\n",
    "    'temperature': target_values[0][0],\n",
    "    'humidity': target_values[0][1],\n",
    "    'ph': target_values[0][2],\n",
    "    'rainfall': target_values[0][3]\n",
    "}\n",
    "\n",
    "# Creating DataFrame\n",
    "test_data = pd.DataFrame(data)\n",
    "\n",
    "# Now you have a DataFrame 'df' ready for prediction\n",
    "print(test_data)"
   ]
  },
  {
   "cell_type": "code",
   "execution_count": null,
   "metadata": {},
   "outputs": [],
   "source": [
    "# def get_data_from_thingspeak(channel_id, read_key, num_entries):\n",
    "#     url = f'https://api.thingspeak.com/channels/{channel_id}/feeds.json?api_key={read_key}&results={num_entries}'\n",
    "#     response = requests.get(url)\n",
    "#     data = response.json()\n",
    "#     entries = data['feeds']\n",
    "#     field1_values = [float(entry['field1']) for entry in entries]  # Assuming field1 contains the target variable\n",
    "#     field2_values = [float(entry['field2']) for entry in entries]  # Assuming field2 contains one of the features\n",
    "#     # Add more fields as needed\n",
    "#     return field1_values, field2_values"
   ]
  },
  {
   "cell_type": "code",
   "execution_count": null,
   "metadata": {},
   "outputs": [],
   "source": []
  }
 ],
 "metadata": {
  "kernelspec": {
   "display_name": "Python 3",
   "language": "python",
   "name": "python3"
  },
  "language_info": {
   "codemirror_mode": {
    "name": "ipython",
    "version": 3
   },
   "file_extension": ".py",
   "mimetype": "text/x-python",
   "name": "python",
   "nbconvert_exporter": "python",
   "pygments_lexer": "ipython3",
   "version": "3.7.4"
  }
 },
 "nbformat": 4,
 "nbformat_minor": 2
}
